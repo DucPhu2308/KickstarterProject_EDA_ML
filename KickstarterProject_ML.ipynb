{
 "cells": [
  {
   "cell_type": "markdown",
   "metadata": {},
   "source": [
    "# Kickstarter Project Forecast Model"
   ]
  },
  {
   "cell_type": "markdown",
   "metadata": {},
   "source": [
    "## 1. First understanding"
   ]
  },
  {
   "cell_type": "code",
   "execution_count": null,
   "metadata": {},
   "outputs": [],
   "source": [
    "import numpy as np\n",
    "import matplotlib.pyplot as plt\n",
    "import pandas as pd"
   ]
  },
  {
   "cell_type": "code",
   "execution_count": null,
   "metadata": {},
   "outputs": [],
   "source": [
    "df = pd.read_csv('data/kickstarter.csv')\n",
    "df.head()"
   ]
  },
  {
   "cell_type": "code",
   "execution_count": null,
   "metadata": {},
   "outputs": [],
   "source": [
    "df.info()"
   ]
  },
  {
   "cell_type": "markdown",
   "metadata": {},
   "source": [
    "## 2. Data cleaning"
   ]
  },
  {
   "cell_type": "code",
   "execution_count": null,
   "metadata": {},
   "outputs": [],
   "source": [
    "# drop ID, goal, pledged, usd pledged\n",
    "df.drop(columns=['ID', 'goal', 'pledged', 'usd pledged','name'], inplace=True)\n",
    "df.head()"
   ]
  },
  {
   "cell_type": "code",
   "execution_count": null,
   "metadata": {},
   "outputs": [],
   "source": [
    "# drop null\n",
    "df.dropna(inplace=True)\n",
    "df.info()"
   ]
  },
  {
   "cell_type": "markdown",
   "metadata": {},
   "source": [
    "## 3. EDA"
   ]
  },
  {
   "cell_type": "markdown",
   "metadata": {},
   "source": [
    "### 3.1 Tỉ lệ các loại state"
   ]
  },
  {
   "cell_type": "code",
   "execution_count": null,
   "metadata": {},
   "outputs": [],
   "source": [
    "variable = 'state'\n",
    "\n",
    "pie_chart = df[variable].value_counts()\n",
    "output = pd.DataFrame((df[variable].value_counts()))"
   ]
  },
  {
   "cell_type": "code",
   "execution_count": null,
   "metadata": {},
   "outputs": [],
   "source": [
    "temp_pie = pie_chart.iloc[:4]\n",
    "temp_pie.iloc[3] = pie_chart.iloc[3:].sum()\n",
    "temp_pie = temp_pie.rename(index= {'undefined' : 'others'})\n",
    "temp_pie.name = ''"
   ]
  },
  {
   "cell_type": "code",
   "execution_count": null,
   "metadata": {},
   "outputs": [],
   "source": [
    "output['Share'] = (output / output.sum()*100).round(2)\n",
    "output['Share'] = output['Share'].map(\"{:,.2f}%\".format)\n",
    "output.index.rename('state', inplace=True)"
   ]
  },
  {
   "cell_type": "code",
   "execution_count": null,
   "metadata": {},
   "outputs": [],
   "source": [
    "#pie_chart.plot(kind = \"pie\", startangle=90, autopct='%1.0f%%', pctdistance=1.1, labeldistance=1.2)\n",
    "temp_pie.plot(kind = \"pie\", startangle=90, autopct='%1.0f%%', pctdistance=1.1, labeldistance=1.2)\n",
    "plt.title('Tỉ lệ các loại trạng thái của dự án Kickstarter')\n",
    "output"
   ]
  },
  {
   "cell_type": "markdown",
   "metadata": {},
   "source": [
    "### 3.2 Tỉ lệ các loại main_category"
   ]
  },
  {
   "cell_type": "code",
   "execution_count": null,
   "metadata": {},
   "outputs": [],
   "source": [
    "variable = 'main_category'\n",
    "\n",
    "pie_chart = df[variable].value_counts()\n",
    "output = pd.DataFrame((df[variable].value_counts()))\n",
    "output"
   ]
  },
  {
   "cell_type": "code",
   "execution_count": null,
   "metadata": {},
   "outputs": [],
   "source": [
    "temp_pie = pie_chart.iloc[:10]\n",
    "temp_pie.iloc[9] = pie_chart.iloc[9:].sum()\n",
    "# name last category as 'others'\n",
    "temp_pie = temp_pie.rename(index= {'Theater' : 'others'})\n",
    "temp_pie.name = ''\n",
    "temp_pie"
   ]
  },
  {
   "cell_type": "code",
   "execution_count": null,
   "metadata": {},
   "outputs": [],
   "source": [
    "temp_pie.plot(kind = \"pie\", startangle=90, autopct='%1.0f%%', pctdistance=1.1, labeldistance=1.2)"
   ]
  },
  {
   "cell_type": "markdown",
   "metadata": {},
   "source": [
    "### 3.3 Tỉ lệ thành công của mỗi main category"
   ]
  },
  {
   "cell_type": "code",
   "execution_count": null,
   "metadata": {},
   "outputs": [],
   "source": [
    "# number of successful projects and failed projects in each category\n",
    "df2 = df.groupby(['main_category', 'state']).size().unstack()\n",
    "df2['total'] = df2['failed'] + df2['successful'] + df2['canceled']\n",
    "columns = ['successful', 'failed', 'canceled','total']\n",
    "df2 = df2[columns]\n",
    "# df2['success_rate'] = (df2['successful'] / df2['total'] * 100).round(2)\n",
    "df2 = df2.sort_values(by='total', ascending=False)\n",
    "df2"
   ]
  },
  {
   "cell_type": "code",
   "execution_count": null,
   "metadata": {},
   "outputs": [],
   "source": [
    "# bar chart of successfull, failed and canceled projects in each category\n",
    "df2.plot(kind='bar', figsize=(10, 5))\n",
    "plt.title('Số lượng dự án thành công, thất bại và bị hủy trong mỗi danh mục')\n",
    "plt.ylabel('Số lượng')\n",
    "plt.xlabel('Danh mục chính')\n",
    "plt.show()"
   ]
  },
  {
   "cell_type": "markdown",
   "metadata": {},
   "source": [
    "### 3.4 Tổng usd_pledged_real của mỗi main category"
   ]
  },
  {
   "cell_type": "code",
   "execution_count": null,
   "metadata": {},
   "outputs": [],
   "source": [
    "# total usd pledged real in each category\n",
    "df3 = df.groupby('main_category')['usd_pledged_real'].sum().sort_values(ascending=False)\n",
    "df3 = df3 / 1e6\n",
    "df3.plot(kind='bar', figsize=(10, 5))\n",
    "plt.title('Tổng số tiền đã ủng hộ (USD) trong mỗi danh mục')\n",
    "plt.ylabel('Tổng số tiền đã ủng hộ (triệu USD)')\n",
    "plt.xlabel('Danh mục chính')"
   ]
  },
  {
   "cell_type": "markdown",
   "metadata": {},
   "source": [
    "### 3.5 Tác động của usd_pledged_real và usd_goal_real đến khả năng thành công"
   ]
  },
  {
   "cell_type": "code",
   "execution_count": null,
   "metadata": {},
   "outputs": [],
   "source": [
    "import seaborn as sns\n",
    "\n",
    "#Filter dataset by failed and Successfull\n",
    "df_3_states = df[df['state'].isin(['canceled','failed','successful'])]\n",
    "\n",
    "# dữ liệu lớn khó quan sát => thu hẹp dữ liệu\n",
    "df_3_states_small = df_3_states[df_3_states['usd_goal_real'] < 2*1e6]\n",
    "df_3_states_small = df_3_states_small[df_3_states_small['usd_pledged_real'] < 2*1e6]\n",
    "\n",
    "plt.figure(figsize=(20,10))\n",
    "sns.set(style=\"darkgrid\")\n",
    "sns.lmplot(x=\"usd_pledged_real\", y=\"usd_goal_real\", hue='state',data=df_3_states_small, markers=[\"x\", \"o\", \"*\"], palette=\"Set2\")\n",
    "plt.title(\"         Pledged and Goal amount in USD impact on Project Status\")\n"
   ]
  },
  {
   "cell_type": "markdown",
   "metadata": {},
   "source": [
    "### 3.6 Tỉ lệ tham gia của các quốc gia"
   ]
  },
  {
   "cell_type": "code",
   "execution_count": null,
   "metadata": {},
   "outputs": [],
   "source": [
    "variable = 'country'\n",
    "\n",
    "pie_chart = df_3_states[variable].value_counts()\n",
    "pie_chart.plot(kind = \"pie\", startangle=90, autopct='%1.0f%%', pctdistance=1.1, labeldistance=1.2)"
   ]
  },
  {
   "cell_type": "code",
   "execution_count": null,
   "metadata": {},
   "outputs": [],
   "source": [
    "pie_chart = pie_chart.drop('US')\n",
    "temp_pie = pie_chart.iloc[:10]\n",
    "temp_pie.iloc[9] = pie_chart.iloc[9:].sum()\n",
    "# name last category as 'others'\n",
    "temp_pie = temp_pie.rename(index= {'MX' : 'others'})\n",
    "temp_pie.name = ''\n",
    "temp_pie.plot(kind = \"pie\", startangle=90, autopct='%1.0f%%', pctdistance=1.1, labeldistance=1.2)\n"
   ]
  },
  {
   "cell_type": "markdown",
   "metadata": {},
   "source": [
    "### 3.7 Mối quan hệ backers và usd_pledged_real"
   ]
  },
  {
   "cell_type": "code",
   "execution_count": null,
   "metadata": {},
   "outputs": [],
   "source": [
    "# dữ liệu lớn khó quan sát => thu hẹp dữ liệu\n",
    "df_3_states_small = df_3_states[df_3_states['backers'] < 20000]\n",
    "df_3_states_small = df_3_states_small[df_3_states_small['usd_pledged_real'] < 2*1e6]\n",
    "\n",
    "\n",
    "plt.figure(figsize=(20,10))\n",
    "sns.set(style=\"darkgrid\")\n",
    "sns.lmplot(x=\"usd_pledged_real\", y=\"backers\", hue='state',data=df_3_states_small, markers=[\"x\", \"o\", \"*\"], palette=\"Set2\")\n",
    "plt.title(\"         Pledged amount in USD and Backers impact on Project Status\")"
   ]
  },
  {
   "cell_type": "markdown",
   "metadata": {},
   "source": [
    "### 3.8 usd_goal_real và usd_pledged_real trung bình của các quốc gia"
   ]
  },
  {
   "cell_type": "code",
   "execution_count": null,
   "metadata": {},
   "outputs": [],
   "source": [
    "plt.figure(figsize=(10,5))\n",
    "sns.set(style=\"darkgrid\")\n",
    "df.groupby('country').usd_goal_real.mean().sort_values(ascending=False).head(10).plot.bar()\n",
    "plt.title(\"Country by Mean of Goal real amount\")"
   ]
  },
  {
   "cell_type": "code",
   "execution_count": null,
   "metadata": {},
   "outputs": [],
   "source": [
    "plt.figure(figsize=(10,5))\n",
    "df.groupby(['country'])['usd_pledged_real'].mean().sort_values(ascending=False).head(10).plot(kind='bar',color = 'g',grid='yes')\n",
    "plt.title(\"Country by Mean of Pledged amount\")"
   ]
  },
  {
   "cell_type": "markdown",
   "metadata": {},
   "source": [
    "## 4. Data Pre-processing"
   ]
  },
  {
   "cell_type": "code",
   "execution_count": null,
   "metadata": {},
   "outputs": [],
   "source": [
    "# add column launched_month (month of launched)\n",
    "df['launched_month'] = pd.to_datetime(df['launched']).dt.month\n",
    "\n",
    "# add column duration (number of days between launched and deadline)\n",
    "df['deadline'] = pd.to_datetime(df['deadline'])\n",
    "df['launched'] = pd.to_datetime(df['launched'])\n",
    "\n",
    "df['duration'] = (df['deadline'] - df['launched']).dt.days\n",
    "\n",
    "# drop launched and deadline\n",
    "df.drop(columns=['launched', 'deadline'], inplace=True)\n",
    "\n",
    "# set canceled as failed\n",
    "df['state'] = df['state'].apply(lambda x: 'failed' if x == 'canceled' else x)\n",
    "\n",
    "# drop other than successful and failed\n",
    "df = df[df['state'].isin(['successful', 'failed'])]\n",
    "\n",
    "# encode categorical variables\n",
    "from sklearn.preprocessing import LabelEncoder\n",
    "lab_enc = LabelEncoder() \n",
    "cate_vars = ['main_category', 'country', 'category', 'state', 'currency']\n",
    "for var in cate_vars:\n",
    "    df[var] = lab_enc.fit_transform(df[var])\n"
   ]
  },
  {
   "cell_type": "code",
   "execution_count": null,
   "metadata": {},
   "outputs": [],
   "source": [
    "# write to csv\n",
    "df.to_csv('data/kickstarter_cleaned.csv', index=False)"
   ]
  },
  {
   "cell_type": "code",
   "execution_count": null,
   "metadata": {},
   "outputs": [],
   "source": [
    "df.head()"
   ]
  },
  {
   "cell_type": "code",
   "execution_count": null,
   "metadata": {},
   "outputs": [],
   "source": [
    "df.info()"
   ]
  },
  {
   "cell_type": "markdown",
   "metadata": {},
   "source": [
    "## 5. Machine Learning"
   ]
  },
  {
   "cell_type": "code",
   "execution_count": null,
   "metadata": {},
   "outputs": [],
   "source": [
    "df = pd.read_csv('data/kickstarter_cleaned.csv')\n",
    "df.head()"
   ]
  },
  {
   "cell_type": "markdown",
   "metadata": {},
   "source": [
    "### 5.1 Split Train/Test"
   ]
  },
  {
   "cell_type": "code",
   "execution_count": null,
   "metadata": {},
   "outputs": [],
   "source": [
    "X = df.drop(columns=['state'])\n",
    "y = df['state']\n",
    "\n",
    "from sklearn.model_selection import train_test_split\n",
    "X_train_val, X_test, y_train_val, y_test = train_test_split(X, y, test_size=0.2, random_state=1)"
   ]
  },
  {
   "cell_type": "markdown",
   "metadata": {},
   "source": [
    "### 5.2 K-Fold for each model"
   ]
  },
  {
   "cell_type": "code",
   "execution_count": null,
   "metadata": {},
   "outputs": [],
   "source": [
    "# models in use\n",
    "from sklearn.tree import DecisionTreeClassifier\n",
    "from sklearn.ensemble import RandomForestClassifier\n",
    "from sklearn.linear_model import LogisticRegression\n",
    "from sklearn.neighbors import KNeighborsClassifier\n",
    "from sklearn.naive_bayes import GaussianNB\n",
    "# metrics\n",
    "from sklearn.metrics import accuracy_score, confusion_matrix, f1_score, auc, roc_curve\n",
    "# cross validation\n",
    "from sklearn.model_selection import KFold, cross_val_score"
   ]
  },
  {
   "cell_type": "markdown",
   "metadata": {},
   "source": [
    "Gaussian Naive Bayes"
   ]
  },
  {
   "cell_type": "code",
   "execution_count": null,
   "metadata": {},
   "outputs": [],
   "source": [
    "# K-Fold Cross Validation\n",
    "var_smoothings = [1e-10, 1e-9, 1e-8, 1e-7, 1e-6, 1e-5, 1e-4, 1e-3, 1e-2, 1e-1]\n",
    "f1_scores = []\n",
    "kf = KFold(n_splits=5, shuffle=True, random_state=1)\n",
    "for i in var_smoothings:\n",
    "    gnb = GaussianNB(var_smoothing=i)\n",
    "    f1 = cross_val_score(gnb, X_train_val, y_train_val, cv=kf, scoring='f1').mean()\n",
    "    f1_scores.append(f1)\n",
    "    print(f'var_smoothing = {i}, f1 = {f1}')"
   ]
  },
  {
   "cell_type": "code",
   "execution_count": null,
   "metadata": {},
   "outputs": [],
   "source": [
    "best_var_smoothing = var_smoothings[np.argmax(f1_scores)]\n",
    "print('Best var_smoothing:', best_var_smoothing)"
   ]
  }
 ],
 "metadata": {
  "kernelspec": {
   "display_name": "mlclass",
   "language": "python",
   "name": "python3"
  },
  "language_info": {
   "codemirror_mode": {
    "name": "ipython",
    "version": 3
   },
   "file_extension": ".py",
   "mimetype": "text/x-python",
   "name": "python",
   "nbconvert_exporter": "python",
   "pygments_lexer": "ipython3",
   "version": "3.12.0"
  }
 },
 "nbformat": 4,
 "nbformat_minor": 2
}
